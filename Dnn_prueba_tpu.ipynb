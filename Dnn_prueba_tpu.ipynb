{
  "nbformat": 4,
  "nbformat_minor": 0,
  "metadata": {
    "colab": {
      "name": "Dnn-prueba tpu.ipynb",
      "provenance": [],
      "collapsed_sections": [],
      "machine_shape": "hm",
      "include_colab_link": true
    },
    "kernelspec": {
      "name": "python3",
      "display_name": "Python 3"
    },
    "accelerator": "TPU"
  },
  "cells": [
    {
      "cell_type": "markdown",
      "metadata": {
        "id": "view-in-github",
        "colab_type": "text"
      },
      "source": [
        "<a href=\"https://colab.research.google.com/github/fabian692/DNN-and-preprocesin-cicids-2017/blob/master/Dnn_prueba_tpu.ipynb\" target=\"_parent\"><img src=\"https://colab.research.google.com/assets/colab-badge.svg\" alt=\"Open In Colab\"/></a>"
      ]
    },
    {
      "cell_type": "code",
      "metadata": {
        "id": "1DJfjs2F8Euw",
        "colab_type": "code",
        "colab": {
          "base_uri": "https://localhost:8080/",
          "height": 34
        },
        "outputId": "f0b33231-b978-405a-caa3-730f991f8671"
      },
      "source": [
        "from google.colab import drive\n",
        "drive.mount('/content/drive')\n"
      ],
      "execution_count": 7,
      "outputs": [
        {
          "output_type": "stream",
          "text": [
            "Drive already mounted at /content/drive; to attempt to forcibly remount, call drive.mount(\"/content/drive\", force_remount=True).\n"
          ],
          "name": "stdout"
        }
      ]
    },
    {
      "cell_type": "code",
      "metadata": {
        "id": "9HX2jeZC9EQN",
        "colab_type": "code",
        "colab": {
          "base_uri": "https://localhost:8080/",
          "height": 34
        },
        "outputId": "b30feace-9003-45de-f1ca-16a3cca24636"
      },
      "source": [
        "!ls \"/content/drive/\""
      ],
      "execution_count": 8,
      "outputs": [
        {
          "output_type": "stream",
          "text": [
            "'My Drive'\n"
          ],
          "name": "stdout"
        }
      ]
    },
    {
      "cell_type": "code",
      "metadata": {
        "id": "qTnS4G3fkisW",
        "colab_type": "code",
        "colab": {
          "base_uri": "https://localhost:8080/",
          "height": 561
        },
        "outputId": "c126db16-6f71-4f08-8cf7-41aa2b37f005"
      },
      "source": [
        "#np.random.seed(1337)  # for reproducibility\n",
        "import pandas as pd\n",
        "import numpy as np\n",
        "from keras.preprocessing import sequence\n",
        "from keras.utils import np_utils\n",
        "from keras.models import Sequential\n",
        "from keras.layers import Dense, Dropout, Activation, Embedding\n",
        "from keras.layers import LSTM, SimpleRNN, GRU\n",
        "from keras.datasets import imdb\n",
        "from keras.utils.np_utils import to_categorical\n",
        "from sklearn.metrics import (precision_score, recall_score,f1_score, accuracy_score,mean_squared_error,mean_absolute_error)\n",
        "from sklearn import metrics\n",
        "from sklearn.preprocessing import Normalizer\n",
        "import h5py\n",
        "from keras import callbacks\n",
        "from keras.callbacks import ModelCheckpoint, EarlyStopping, ReduceLROnPlateau, CSVLogger\n",
        "\n",
        "traindata = pd.read_csv(r'/content/drive/My Drive/Colab Notebooks/Training.csv') # kdd/binary/Training.csv'e\n",
        "testdata = pd.read_csv(r'/content/drive/My Drive/Colab Notebooks/Testing.csv')#'kdd/binary/Testing.csv', header=None\n",
        "\n",
        "\n",
        "X = traindata.iloc[:,1:42]\n",
        "Y = traindata.iloc[:,0]\n",
        "C = testdata.iloc[:,0]\n",
        "T = testdata.iloc[:,1:42]\n",
        "\n",
        "scaler = Normalizer().fit(X)\n",
        "trainX = scaler.transform(X)\n",
        "\n",
        "scaler = Normalizer().fit(T)\n",
        "testT = scaler.transform(T)\n",
        "\n",
        "y_train = np.array(Y)\n",
        "y_test = np.array(C)\n",
        "\n",
        "X_train = np.array(trainX)\n",
        "X_test = np.array(testT)\n",
        "\n",
        "\n",
        "batch_size = 64\n",
        "\n",
        "# 1. define the network\n",
        "model = Sequential()\n",
        "model.add(Dense(1024,input_dim=41,activation='relu'))  \n",
        "model.add(Dropout(0.01))\n",
        "model.add(Dense(768,activation='relu'))  \n",
        "model.add(Dropout(0.01))\n",
        "model.add(Dense(512,activation='relu'))  \n",
        "model.add(Dropout(0.01))\n",
        "model.add(Dense(256,activation='relu'))  \n",
        "model.add(Dropout(0.01))\n",
        "model.add(Dense(128,activation='relu'))  \n",
        "model.add(Dropout(0.01))\n",
        "model.add(Dense(1))\n",
        "model.add(Activation('sigmoid'))\n",
        "model.summary()\n",
        "\n",
        "# try using different optimizers and different optimizer configs\n"
      ],
      "execution_count": 9,
      "outputs": [
        {
          "output_type": "stream",
          "text": [
            "Model: \"sequential_1\"\n",
            "_________________________________________________________________\n",
            "Layer (type)                 Output Shape              Param #   \n",
            "=================================================================\n",
            "dense_6 (Dense)              (None, 1024)              43008     \n",
            "_________________________________________________________________\n",
            "dropout_5 (Dropout)          (None, 1024)              0         \n",
            "_________________________________________________________________\n",
            "dense_7 (Dense)              (None, 768)               787200    \n",
            "_________________________________________________________________\n",
            "dropout_6 (Dropout)          (None, 768)               0         \n",
            "_________________________________________________________________\n",
            "dense_8 (Dense)              (None, 512)               393728    \n",
            "_________________________________________________________________\n",
            "dropout_7 (Dropout)          (None, 512)               0         \n",
            "_________________________________________________________________\n",
            "dense_9 (Dense)              (None, 256)               131328    \n",
            "_________________________________________________________________\n",
            "dropout_8 (Dropout)          (None, 256)               0         \n",
            "_________________________________________________________________\n",
            "dense_10 (Dense)             (None, 128)               32896     \n",
            "_________________________________________________________________\n",
            "dropout_9 (Dropout)          (None, 128)               0         \n",
            "_________________________________________________________________\n",
            "dense_11 (Dense)             (None, 1)                 129       \n",
            "_________________________________________________________________\n",
            "activation_1 (Activation)    (None, 1)                 0         \n",
            "=================================================================\n",
            "Total params: 1,388,289\n",
            "Trainable params: 1,388,289\n",
            "Non-trainable params: 0\n",
            "_________________________________________________________________\n"
          ],
          "name": "stdout"
        }
      ]
    },
    {
      "cell_type": "code",
      "metadata": {
        "id": "IPZ1p9BMIy80",
        "colab_type": "code",
        "colab": {
          "base_uri": "https://localhost:8080/",
          "height": 34
        },
        "outputId": "6f7b1c9e-4659-4224-cc8c-b51e3833a90a"
      },
      "source": [
        "from google.colab import drive\n",
        "drive.mount('/content/drive')"
      ],
      "execution_count": 10,
      "outputs": [
        {
          "output_type": "stream",
          "text": [
            "Drive already mounted at /content/drive; to attempt to forcibly remount, call drive.mount(\"/content/drive\", force_remount=True).\n"
          ],
          "name": "stdout"
        }
      ]
    },
    {
      "cell_type": "code",
      "metadata": {
        "id": "5HOx9KvB7avn",
        "colab_type": "code",
        "colab": {
          "base_uri": "https://localhost:8080/",
          "height": 68
        },
        "outputId": "8e2ea376-ac62-4d18-99e7-5084e899c2c6"
      },
      "source": [
        "!ls /content/sample_data"
      ],
      "execution_count": 11,
      "outputs": [
        {
          "output_type": "stream",
          "text": [
            "anscombe.json\t\t      mnist_test.csv\n",
            "california_housing_test.csv   mnist_train_small.csv\n",
            "california_housing_train.csv  README.md\n"
          ],
          "name": "stdout"
        }
      ]
    },
    {
      "cell_type": "code",
      "metadata": {
        "id": "7A6AfRIYUHaY",
        "colab_type": "code",
        "colab": {
          "base_uri": "https://localhost:8080/",
          "height": 1000
        },
        "outputId": "669cc823-d6ee-4a98-f6c3-1da8459b703b"
      },
      "source": [
        "model.compile(loss='mean_squared_error',\n",
        "              optimizer='adam',\n",
        "              metrics=['binary_accuracy'])\n",
        " \n",
        "model.fit(X_train, y_train , epochs=100)\n",
        " \n",
        "# evaluamos el modelo\n",
        "scores = model.evaluate(X_train, y_train)\n",
        " \n",
        "print(\"\\n%s: %.2f%%\" % (model.metrics_names[1], scores[1]*100))\n",
        "print (model.predict(X_train).round())"
      ],
      "execution_count": null,
      "outputs": [
        {
          "output_type": "stream",
          "text": [
            "Epoch 1/100\n",
            "15439/15439 [==============================] - 128s 8ms/step - loss: 0.0056 - binary_accuracy: 0.9936\n",
            "Epoch 2/100\n",
            "15439/15439 [==============================] - 127s 8ms/step - loss: 0.0033 - binary_accuracy: 0.9964\n",
            "Epoch 3/100\n",
            "15439/15439 [==============================] - 130s 8ms/step - loss: 0.0030 - binary_accuracy: 0.9967\n",
            "Epoch 4/100\n",
            "15439/15439 [==============================] - 122s 8ms/step - loss: 0.0026 - binary_accuracy: 0.9972\n",
            "Epoch 5/100\n",
            "15439/15439 [==============================] - 120s 8ms/step - loss: 0.0025 - binary_accuracy: 0.9973\n",
            "Epoch 6/100\n",
            "15439/15439 [==============================] - 122s 8ms/step - loss: 0.0024 - binary_accuracy: 0.9974\n",
            "Epoch 7/100\n",
            "15439/15439 [==============================] - 123s 8ms/step - loss: 0.0027 - binary_accuracy: 0.9971\n",
            "Epoch 8/100\n",
            "15439/15439 [==============================] - 129s 8ms/step - loss: 0.0023 - binary_accuracy: 0.9975\n",
            "Epoch 9/100\n",
            "15439/15439 [==============================] - 127s 8ms/step - loss: 0.0023 - binary_accuracy: 0.9976\n",
            "Epoch 10/100\n",
            "15439/15439 [==============================] - 128s 8ms/step - loss: 0.0022 - binary_accuracy: 0.9976\n",
            "Epoch 11/100\n",
            "15439/15439 [==============================] - 128s 8ms/step - loss: 0.0024 - binary_accuracy: 0.9975\n",
            "Epoch 12/100\n",
            "15439/15439 [==============================] - 122s 8ms/step - loss: 0.0023 - binary_accuracy: 0.9976\n",
            "Epoch 13/100\n",
            "15439/15439 [==============================] - 127s 8ms/step - loss: 0.0026 - binary_accuracy: 0.9973\n",
            "Epoch 14/100\n",
            "15439/15439 [==============================] - 122s 8ms/step - loss: 0.0028 - binary_accuracy: 0.9970\n",
            "Epoch 15/100\n",
            "15439/15439 [==============================] - 123s 8ms/step - loss: 0.0022 - binary_accuracy: 0.9977\n",
            "Epoch 16/100\n",
            "15439/15439 [==============================] - 125s 8ms/step - loss: 0.0026 - binary_accuracy: 0.9973\n",
            "Epoch 17/100\n",
            "15439/15439 [==============================] - 122s 8ms/step - loss: 0.0062 - binary_accuracy: 0.9937\n",
            "Epoch 18/100\n",
            "15439/15439 [==============================] - 132s 9ms/step - loss: 0.0027 - binary_accuracy: 0.9972\n",
            "Epoch 19/100\n",
            "15439/15439 [==============================] - 128s 8ms/step - loss: 0.0024 - binary_accuracy: 0.9975\n",
            "Epoch 20/100\n",
            "15439/15439 [==============================] - 125s 8ms/step - loss: 0.0023 - binary_accuracy: 0.9976\n",
            "Epoch 21/100\n",
            "15439/15439 [==============================] - 126s 8ms/step - loss: 0.0023 - binary_accuracy: 0.9976\n",
            "Epoch 22/100\n",
            "15439/15439 [==============================] - 121s 8ms/step - loss: 0.0030 - binary_accuracy: 0.9969\n",
            "Epoch 23/100\n",
            "15439/15439 [==============================] - 128s 8ms/step - loss: 0.0027 - binary_accuracy: 0.9972\n",
            "Epoch 24/100\n",
            "15439/15439 [==============================] - 125s 8ms/step - loss: 0.0025 - binary_accuracy: 0.9975\n",
            "Epoch 25/100\n",
            "15439/15439 [==============================] - 124s 8ms/step - loss: 0.0023 - binary_accuracy: 0.9976\n",
            "Epoch 26/100\n",
            "15439/15439 [==============================] - 125s 8ms/step - loss: 0.0021 - binary_accuracy: 0.9978\n",
            "Epoch 27/100\n",
            "15439/15439 [==============================] - 125s 8ms/step - loss: 0.0021 - binary_accuracy: 0.9978\n",
            "Epoch 28/100\n",
            "15439/15439 [==============================] - 129s 8ms/step - loss: 0.0021 - binary_accuracy: 0.9977\n",
            "Epoch 29/100\n",
            "15439/15439 [==============================] - 125s 8ms/step - loss: 0.0026 - binary_accuracy: 0.9973\n",
            "Epoch 30/100\n",
            "15439/15439 [==============================] - 121s 8ms/step - loss: 0.0022 - binary_accuracy: 0.9977\n",
            "Epoch 31/100\n",
            "15439/15439 [==============================] - 125s 8ms/step - loss: 0.0020 - binary_accuracy: 0.9979\n",
            "Epoch 32/100\n",
            "15439/15439 [==============================] - 124s 8ms/step - loss: 0.0022 - binary_accuracy: 0.9977\n",
            "Epoch 33/100\n",
            "15439/15439 [==============================] - 129s 8ms/step - loss: 0.0020 - binary_accuracy: 0.9979\n",
            "Epoch 34/100\n",
            "15439/15439 [==============================] - 125s 8ms/step - loss: 0.0021 - binary_accuracy: 0.9978\n",
            "Epoch 35/100\n",
            "15439/15439 [==============================] - 122s 8ms/step - loss: 0.0021 - binary_accuracy: 0.9978\n",
            "Epoch 36/100\n",
            "15439/15439 [==============================] - 122s 8ms/step - loss: 0.0021 - binary_accuracy: 0.9978\n",
            "Epoch 37/100\n",
            "15439/15439 [==============================] - 125s 8ms/step - loss: 0.0036 - binary_accuracy: 0.9963\n",
            "Epoch 38/100\n",
            "15439/15439 [==============================] - 131s 8ms/step - loss: 0.0022 - binary_accuracy: 0.9976\n",
            "Epoch 39/100\n",
            "11569/15439 [=====================>........] - ETA: 32s - loss: 0.0020 - binary_accuracy: 0.9979"
          ],
          "name": "stdout"
        }
      ]
    }
  ]
}