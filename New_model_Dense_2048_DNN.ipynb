{
  "nbformat": 4,
  "nbformat_minor": 0,
  "metadata": {
    "kernelspec": {
      "display_name": "Python 3",
      "language": "python",
      "name": "python3"
    },
    "language_info": {
      "codemirror_mode": {
        "name": "ipython",
        "version": 3
      },
      "file_extension": ".py",
      "mimetype": "text/x-python",
      "name": "python",
      "nbconvert_exporter": "python",
      "pygments_lexer": "ipython3",
      "version": "3.6.6"
    },
    "colab": {
      "name": "New_model_Dense_2048_DNN.ipynb",
      "provenance": [],
      "collapsed_sections": [],
      "machine_shape": "hm",
      "include_colab_link": true
    },
    "accelerator": "GPU"
  },
  "cells": [
    {
      "cell_type": "markdown",
      "metadata": {
        "id": "view-in-github",
        "colab_type": "text"
      },
      "source": [
        "<a href=\"https://colab.research.google.com/github/fabian692/DNN-and-preprocesin-cicids-2017/blob/master/New_model_Dense_2048_DNN.ipynb\" target=\"_parent\"><img src=\"https://colab.research.google.com/assets/colab-badge.svg\" alt=\"Open In Colab\"/></a>"
      ]
    },
    {
      "cell_type": "code",
      "metadata": {
        "id": "16G-WIcaeInc",
        "colab_type": "code",
        "colab": {
          "base_uri": "https://localhost:8080/",
          "height": 34
        },
        "outputId": "08a17d77-a2f3-439c-9fc1-50aa377734c0"
      },
      "source": [
        "from google.colab import drive\n",
        "drive.mount('/content/drive')"
      ],
      "execution_count": 1,
      "outputs": [
        {
          "output_type": "stream",
          "text": [
            "Drive already mounted at /content/drive; to attempt to forcibly remount, call drive.mount(\"/content/drive\", force_remount=True).\n"
          ],
          "name": "stdout"
        }
      ]
    },
    {
      "cell_type": "code",
      "metadata": {
        "id": "TOYCKYxBZklk",
        "colab_type": "code",
        "colab": {
          "base_uri": "https://localhost:8080/",
          "height": 52
        },
        "outputId": "225f188d-5358-4be3-8d5b-ad2f3814d926"
      },
      "source": [
        "pip install pyspark\n"
      ],
      "execution_count": 2,
      "outputs": [
        {
          "output_type": "stream",
          "text": [
            "Requirement already satisfied: pyspark in /usr/local/lib/python3.6/dist-packages (3.0.1)\n",
            "Requirement already satisfied: py4j==0.10.9 in /usr/local/lib/python3.6/dist-packages (from pyspark) (0.10.9)\n"
          ],
          "name": "stdout"
        }
      ]
    },
    {
      "cell_type": "code",
      "metadata": {
        "id": "ZoWKXUjMaUMh",
        "colab_type": "code",
        "colab": {
          "base_uri": "https://localhost:8080/",
          "height": 34
        },
        "outputId": "0e4c399f-bb2a-4219-8d80-4853379f9a33"
      },
      "source": [
        "pip install findspark"
      ],
      "execution_count": 3,
      "outputs": [
        {
          "output_type": "stream",
          "text": [
            "Requirement already satisfied: findspark in /usr/local/lib/python3.6/dist-packages (1.4.2)\n"
          ],
          "name": "stdout"
        }
      ]
    },
    {
      "cell_type": "code",
      "metadata": {
        "id": "X7Z5ZTURNPCl",
        "colab_type": "code",
        "colab": {
          "base_uri": "https://localhost:8080/",
          "height": 105
        },
        "outputId": "b09cefdb-59aa-410d-dad0-51dd5c435751"
      },
      "source": [
        "pip install sklearn"
      ],
      "execution_count": 4,
      "outputs": [
        {
          "output_type": "stream",
          "text": [
            "Requirement already satisfied: sklearn in /usr/local/lib/python3.6/dist-packages (0.0)\n",
            "Requirement already satisfied: scikit-learn in /usr/local/lib/python3.6/dist-packages (from sklearn) (0.22.2.post1)\n",
            "Requirement already satisfied: joblib>=0.11 in /usr/local/lib/python3.6/dist-packages (from scikit-learn->sklearn) (0.16.0)\n",
            "Requirement already satisfied: scipy>=0.17.0 in /usr/local/lib/python3.6/dist-packages (from scikit-learn->sklearn) (1.4.1)\n",
            "Requirement already satisfied: numpy>=1.11.0 in /usr/local/lib/python3.6/dist-packages (from scikit-learn->sklearn) (1.18.5)\n"
          ],
          "name": "stdout"
        }
      ]
    },
    {
      "cell_type": "code",
      "metadata": {
        "id": "Qbin_5pwjje_",
        "colab_type": "code",
        "colab": {}
      },
      "source": [
        "import numpy as np\n",
        "import requests\n",
        "import time\n",
        "import tensorflow as tf\n",
        "import keras\n",
        "import random\n",
        "import numpy as np\n",
        "import sklearn\n",
        "import threading\n",
        "import requests\n",
        "import pyspark\n",
        "import findspark\n",
        "from sklearn import metrics\n",
        "from sklearn.model_selection import train_test_split\n",
        "from sklearn.metrics import mean_squared_error,r2_score\n",
        "from sklearn.metrics import f1_score\n",
        "from sklearn import preprocessing\n",
        "import matplotlib.pyplot as plt\n",
        "%matplotlib inline\n",
        "import matplotlib.pyplot as plt\n",
        "from sklearn.metrics import roc_curve, auc\n",
        "from sklearn.metrics import confusion_matrix, classification_report\n",
        "\n",
        "from keras.callbacks import EarlyStopping\n",
        "from keras.callbacks import ModelCheckpoint\n",
        "\n",
        "\n",
        "from keras.optimizers import *\n",
        "from keras.models import Sequential\n",
        "from keras.layers.core import Dense, Dropout, Activation\n",
        "\n",
        "from pyspark import SQLContext, SparkContext\n",
        "from pyspark import SparkConf\n",
        "\n",
        "from pyspark.ml.feature import StandardScaler\n",
        "from pyspark.ml.feature import VectorAssembler\n",
        "from pyspark.ml.feature import StringIndexer\n",
        "from pyspark.ml.evaluation import MulticlassClassificationEvaluator\n",
        "from pyspark.mllib.evaluation import BinaryClassificationMetrics\n",
        "from pyspark.ml.linalg import Vectors\n",
        "\n",
        "\n",
        "\n",
        "from sklearn.cluster import KMeans\n",
        "from sklearn import metrics\n",
        "from sklearn.model_selection import StratifiedKFold"
      ],
      "execution_count": 5,
      "outputs": []
    },
    {
      "cell_type": "code",
      "metadata": {
        "id": "lfbo6lC2UpZF",
        "colab_type": "code",
        "colab": {}
      },
      "source": [
        "import numpy as np\n",
        "from glob import glob\n",
        "import pandas as pd\n",
        "from sklearn.preprocessing import LabelEncoder, OneHotEncoder, MinMaxScaler"
      ],
      "execution_count": 6,
      "outputs": []
    },
    {
      "cell_type": "code",
      "metadata": {
        "id": "7ZfV6bdBUym3",
        "colab_type": "code",
        "colab": {
          "base_uri": "https://localhost:8080/",
          "height": 158
        },
        "outputId": "e752e5f8-c28f-465d-f3c6-61e9a237a2c5"
      },
      "source": [
        "# preprocesamiento de datos\n",
        "InD = np.zeros((0,79),dtype=object)\n",
        "for x in glob(\"/content/drive/My Drive/Colab Notebooks/MachineLearningCVE/*csv\"):\n",
        "    print(x)\n",
        "    InD=np.vstack((InD,pd.read_csv(x)))"
      ],
      "execution_count": 7,
      "outputs": [
        {
          "output_type": "stream",
          "text": [
            "/content/drive/My Drive/Colab Notebooks/MachineLearningCVE/Friday-WorkingHours-Afternoon-DDos.pcap_ISCX.csv\n",
            "/content/drive/My Drive/Colab Notebooks/MachineLearningCVE/Friday-WorkingHours-Afternoon-PortScan.pcap_ISCX.csv\n",
            "/content/drive/My Drive/Colab Notebooks/MachineLearningCVE/Friday-WorkingHours-Morning.pcap_ISCX.csv\n",
            "/content/drive/My Drive/Colab Notebooks/MachineLearningCVE/Monday-WorkingHours.pcap_ISCX.csv\n",
            "/content/drive/My Drive/Colab Notebooks/MachineLearningCVE/Thursday-WorkingHours-Afternoon-Infilteration.pcap_ISCX.csv\n",
            "/content/drive/My Drive/Colab Notebooks/MachineLearningCVE/Thursday-WorkingHours-Morning-WebAttacks.pcap_ISCX.csv\n",
            "/content/drive/My Drive/Colab Notebooks/MachineLearningCVE/Tuesday-WorkingHours.pcap_ISCX.csv\n",
            "/content/drive/My Drive/Colab Notebooks/MachineLearningCVE/Wednesday-workingHours.pcap_ISCX.csv\n"
          ],
          "name": "stdout"
        }
      ]
    },
    {
      "cell_type": "markdown",
      "metadata": {
        "id": "TsO2p94AZMAH",
        "colab_type": "text"
      },
      "source": [
        ""
      ]
    },
    {
      "cell_type": "code",
      "metadata": {
        "id": "49buF6mNU9G_",
        "colab_type": "code",
        "colab": {}
      },
      "source": [
        "Dt=InD[:,:-1].astype(float)"
      ],
      "execution_count": 8,
      "outputs": []
    },
    {
      "cell_type": "code",
      "metadata": {
        "id": "vi1JasHKVC-_",
        "colab_type": "code",
        "colab": {}
      },
      "source": [
        "#Remove nan values\n",
        "LNMV=InD[~np.isnan(Dt).any(axis=1),-1]\n",
        "DtNMV=Dt[~np.isnan(Dt).any(axis=1)]\n",
        "#Remove Inf values\n",
        "LNMIV=LNMV[~np.isinf(DtNMV).any(axis=1)]\n",
        "DtNMIV=DtNMV[~np.isinf(DtNMV).any(axis=1)]"
      ],
      "execution_count": 9,
      "outputs": []
    },
    {
      "cell_type": "code",
      "metadata": {
        "id": "V5DISeliVUlw",
        "colab_type": "code",
        "colab": {}
      },
      "source": [
        "del(DtNMV)"
      ],
      "execution_count": 10,
      "outputs": []
    },
    {
      "cell_type": "code",
      "metadata": {
        "id": "O3trNzDKVYtf",
        "colab_type": "code",
        "colab": {}
      },
      "source": [
        "np.save('NBx', MinMaxScaler().fit_transform(DtNMIV))\n",
        "np.save('NBy', (LNMIV=='BENIGN').astype(int))\n",
        "np.save(\"/content/drive/My Drive/Colab Notebooks/preprocesamiento/\",(LNMIV=='BENIGN').astype(int).reshape(-1,1))"
      ],
      "execution_count": 11,
      "outputs": []
    },
    {
      "cell_type": "code",
      "metadata": {
        "id": "j1PA0EmQVesr",
        "colab_type": "code",
        "colab": {
          "base_uri": "https://localhost:8080/",
          "height": 34
        },
        "outputId": "da1f5559-bc73-42f5-ba12-6cfb27d57f7b"
      },
      "source": [
        "DtNMIV.shape"
      ],
      "execution_count": 12,
      "outputs": [
        {
          "output_type": "execute_result",
          "data": {
            "text/plain": [
              "(2827876, 78)"
            ]
          },
          "metadata": {
            "tags": []
          },
          "execution_count": 12
        }
      ]
    },
    {
      "cell_type": "code",
      "metadata": {
        "id": "f7VhWMN7VieA",
        "colab_type": "code",
        "colab": {}
      },
      "source": [
        "MCDt=DtNMIV[LNMIV!='BENIGN',:]"
      ],
      "execution_count": 13,
      "outputs": []
    },
    {
      "cell_type": "code",
      "metadata": {
        "id": "NXmEOVDKVnHf",
        "colab_type": "code",
        "colab": {
          "base_uri": "https://localhost:8080/",
          "height": 34
        },
        "outputId": "9494264c-7842-4ae2-9f09-c9c56e86caa1"
      },
      "source": [
        "MCDt.shape"
      ],
      "execution_count": 14,
      "outputs": [
        {
          "output_type": "execute_result",
          "data": {
            "text/plain": [
              "(556556, 78)"
            ]
          },
          "metadata": {
            "tags": []
          },
          "execution_count": 14
        }
      ]
    },
    {
      "cell_type": "code",
      "metadata": {
        "id": "5C1rzB0uVqD4",
        "colab_type": "code",
        "colab": {}
      },
      "source": [
        "MCL=LNMIV[LNMIV!='BENIGN']"
      ],
      "execution_count": 15,
      "outputs": []
    },
    {
      "cell_type": "code",
      "metadata": {
        "id": "KOQ58UBhVx4M",
        "colab_type": "code",
        "colab": {
          "base_uri": "https://localhost:8080/",
          "height": 34
        },
        "outputId": "5ebc1edb-7cae-4608-c9c5-3452ade7a54d"
      },
      "source": [
        "MCL.shape"
      ],
      "execution_count": 16,
      "outputs": [
        {
          "output_type": "execute_result",
          "data": {
            "text/plain": [
              "(556556,)"
            ]
          },
          "metadata": {
            "tags": []
          },
          "execution_count": 16
        }
      ]
    },
    {
      "cell_type": "code",
      "metadata": {
        "id": "S-DAbQFbVzJb",
        "colab_type": "code",
        "colab": {
          "base_uri": "https://localhost:8080/",
          "height": 34
        },
        "outputId": "e2b748dc-5b42-45fb-9cbe-dbffd32be215"
      },
      "source": [
        "LNMIV.shape,MCL.shape"
      ],
      "execution_count": 17,
      "outputs": [
        {
          "output_type": "execute_result",
          "data": {
            "text/plain": [
              "((2827876,), (556556,))"
            ]
          },
          "metadata": {
            "tags": []
          },
          "execution_count": 17
        }
      ]
    },
    {
      "cell_type": "code",
      "metadata": {
        "id": "UG4Z_UmAV1-9",
        "colab_type": "code",
        "colab": {}
      },
      "source": [
        "np.save('NMCx', MinMaxScaler().fit_transform(MCDt))\n",
        "np.save('NMCy', LabelEncoder().fit_transform(MCL))\n",
        "np.save(\"/content/drive/My Drive/Colab Notebooks/preprocesamiento/\",OneHotEncoder(sparse=False).fit_transform(MCL.reshape(-1,1)))"
      ],
      "execution_count": 18,
      "outputs": []
    },
    {
      "cell_type": "code",
      "metadata": {
        "id": "hfDB6o6LV43o",
        "colab_type": "code",
        "colab": {}
      },
      "source": [
        "#Replace missing values with average and inf values with max\n",
        "A14=np.average(DtNMIV[:,14])\n",
        "A15=np.average(DtNMIV[:,15])\n",
        "M14=np.max(DtNMIV[:,14])\n",
        "M15=np.max(DtNMIV[:,15])\n",
        "for c in range(Dt.shape[0]):\n",
        "    if np.isnan(Dt[c,14]):\n",
        "        Dt[c,14]=A14\n",
        "    if np.isnan(Dt[c,15]):\n",
        "        Dt[c,15]=A15\n",
        "    if np.isinf(Dt[c,14]):\n",
        "        Dt[c,14]=M14\n",
        "    if np.isinf(Dt[c,15]):\n",
        "        Dt[c,15]=M15"
      ],
      "execution_count": 19,
      "outputs": []
    },
    {
      "cell_type": "code",
      "metadata": {
        "id": "HacuVqg4WA1w",
        "colab_type": "code",
        "colab": {}
      },
      "source": [
        "np.save('RBx', MinMaxScaler().fit_transform(Dt))\n",
        "np.save('RBy', (InD[:,-1]=='BENIGN').astype(int))\n",
        "np.save(\"/content/drive/My Drive/Colab Notebooks/preprocesamiento/\",(InD[:,-1]=='BENIGN').astype(int).reshape(-1,1))"
      ],
      "execution_count": 20,
      "outputs": []
    },
    {
      "cell_type": "code",
      "metadata": {
        "id": "fdp5bTmhWEqQ",
        "colab_type": "code",
        "colab": {}
      },
      "source": [
        "MCDt=Dt[InD[:,-1]!='BENIGN',:]"
      ],
      "execution_count": 21,
      "outputs": []
    },
    {
      "cell_type": "code",
      "metadata": {
        "id": "VpO8iQQPWIes",
        "colab_type": "code",
        "colab": {
          "base_uri": "https://localhost:8080/",
          "height": 34
        },
        "outputId": "2be73cfa-05dc-4c75-f855-640a4569fca5"
      },
      "source": [
        "MCDt.shape"
      ],
      "execution_count": 22,
      "outputs": [
        {
          "output_type": "execute_result",
          "data": {
            "text/plain": [
              "(557646, 78)"
            ]
          },
          "metadata": {
            "tags": []
          },
          "execution_count": 22
        }
      ]
    },
    {
      "cell_type": "code",
      "metadata": {
        "id": "IdOGyMQXWSQ6",
        "colab_type": "code",
        "colab": {}
      },
      "source": [
        "MCL=InD[InD[:,-1]!='BENIGN',-1]"
      ],
      "execution_count": 23,
      "outputs": []
    },
    {
      "cell_type": "code",
      "metadata": {
        "id": "-EQJl4OiWWsJ",
        "colab_type": "code",
        "colab": {
          "base_uri": "https://localhost:8080/",
          "height": 34
        },
        "outputId": "95c6adfa-3526-40c9-b706-b883c6307fe0"
      },
      "source": [
        "MCL.shape"
      ],
      "execution_count": 24,
      "outputs": [
        {
          "output_type": "execute_result",
          "data": {
            "text/plain": [
              "(557646,)"
            ]
          },
          "metadata": {
            "tags": []
          },
          "execution_count": 24
        }
      ]
    },
    {
      "cell_type": "code",
      "metadata": {
        "id": "JOSiYgJNWX40",
        "colab_type": "code",
        "colab": {}
      },
      "source": [
        "np.save('RMCx', MinMaxScaler().fit_transform(MCDt))\n",
        "np.save('RMCy', LabelEncoder().fit_transform(MCL))\n",
        "np.save(\"/content/drive/My Drive/Colab Notebooks/preprocesamiento/\",OneHotEncoder(sparse=False).fit_transform(MCL.reshape(-1,1)))"
      ],
      "execution_count": 25,
      "outputs": []
    },
    {
      "cell_type": "code",
      "metadata": {
        "id": "G5mQdpaqjjfL",
        "colab_type": "code",
        "colab": {
          "base_uri": "https://localhost:8080/",
          "height": 34
        },
        "outputId": "c423ed45-1934-4e77-d706-6dd47e16fc67"
      },
      "source": [
        "# Load the dataset and labels new--\n",
        "x=np.load('/content/NBx.npy')\n",
        "y=np.load('/content/NBy.npy')\n",
        "x.shape,y.shape"
      ],
      "execution_count": 26,
      "outputs": [
        {
          "output_type": "execute_result",
          "data": {
            "text/plain": [
              "((2827876, 78), (2827876,))"
            ]
          },
          "metadata": {
            "tags": []
          },
          "execution_count": 26
        }
      ]
    },
    {
      "cell_type": "code",
      "metadata": {
        "id": "SA0ERxqWjjfS",
        "colab_type": "code",
        "colab": {}
      },
      "source": [
        "conf = SparkConf()\n",
        "sc = SparkContext(conf = conf)\n",
        "spark = SQLContext(sc)"
      ],
      "execution_count": 27,
      "outputs": []
    },
    {
      "cell_type": "code",
      "metadata": {
        "colab_type": "code",
        "id": "23TOba33L4qf",
        "colab": {
          "base_uri": "https://localhost:8080/",
          "height": 372
        },
        "outputId": "d113603e-b7b9-4de5-f92c-4daa3d538bac"
      },
      "source": [
        "gpu_info = !nvidia-smi\n",
        "gpu_info = '\\n'.join(gpu_info)\n",
        "if gpu_info.find('failed') >= 0:\n",
        "  print('Select the Runtime > \"Change runtime type\" menu to enable a GPU accelerator, ')\n",
        "  print('and then re-execute this cell.')\n",
        "else:\n",
        "  print(gpu_info)"
      ],
      "execution_count": 28,
      "outputs": [
        {
          "output_type": "stream",
          "text": [
            "Fri Sep 11 00:27:05 2020       \n",
            "+-----------------------------------------------------------------------------+\n",
            "| NVIDIA-SMI 450.66       Driver Version: 418.67       CUDA Version: 10.1     |\n",
            "|-------------------------------+----------------------+----------------------+\n",
            "| GPU  Name        Persistence-M| Bus-Id        Disp.A | Volatile Uncorr. ECC |\n",
            "| Fan  Temp  Perf  Pwr:Usage/Cap|         Memory-Usage | GPU-Util  Compute M. |\n",
            "|                               |                      |               MIG M. |\n",
            "|===============================+======================+======================|\n",
            "|   0  Tesla V100-SXM2...  Off  | 00000000:00:04.0 Off |                    0 |\n",
            "| N/A   36C    P0    27W / 300W |      0MiB / 16130MiB |      0%      Default |\n",
            "|                               |                      |                 ERR! |\n",
            "+-------------------------------+----------------------+----------------------+\n",
            "                                                                               \n",
            "+-----------------------------------------------------------------------------+\n",
            "| Processes:                                                                  |\n",
            "|  GPU   GI   CI        PID   Type   Process name                  GPU Memory |\n",
            "|        ID   ID                                                   Usage      |\n",
            "|=============================================================================|\n",
            "|  No running processes found                                                 |\n",
            "+-----------------------------------------------------------------------------+\n"
          ],
          "name": "stdout"
        }
      ]
    },
    {
      "cell_type": "code",
      "metadata": {
        "colab_type": "code",
        "id": "V1G82GuO-tez",
        "colab": {
          "base_uri": "https://localhost:8080/",
          "height": 70
        },
        "outputId": "a9117c60-0f4b-4367-e969-143c6b3a80f4"
      },
      "source": [
        "from psutil import virtual_memory\n",
        "ram_gb = virtual_memory().total / 1e9\n",
        "print('Your runtime has {:.1f} gigabytes of available RAM\\n'.format(ram_gb))\n",
        "\n",
        "if ram_gb < 20:\n",
        "  print('To enable a high-RAM runtime, select the Runtime > \"Change runtime type\"')\n",
        "  print('menu, and then select High-RAM in the Runtime shape dropdown. Then, ')\n",
        "  print('re-execute this cell.')\n",
        "else:\n",
        "  print('You are using a high-RAM runtime!')"
      ],
      "execution_count": 29,
      "outputs": [
        {
          "output_type": "stream",
          "text": [
            "Your runtime has 27.4 gigabytes of available RAM\n",
            "\n",
            "You are using a high-RAM runtime!\n"
          ],
          "name": "stdout"
        }
      ]
    },
    {
      "cell_type": "code",
      "metadata": {
        "id": "livdI2cVjjfd",
        "colab_type": "code",
        "colab": {}
      },
      "source": [
        "# Calculate the rank of each feature\n",
        "from sklearn.cluster import KMeans\n",
        "import numpy as np\n",
        "from sklearn.metrics.cluster import homogeneity_score\n",
        "# Calculate the rank of each feature\n",
        "R=[]\n",
        "for h in range(x.shape[1]):\n",
        "    kmeans = KMeans(init='k-means++', n_clusters=np.unique(y).shape[0])\n",
        "    ff=kmeans.fit_predict(x[:,h].reshape(-1,1))\n",
        "    r=homogeneity_score(y,ff) #Use the homogeneity score as a rank of the feature\n",
        "    R.append(r)\n",
        "\n",
        "\n"
      ],
      "execution_count": null,
      "outputs": []
    },
    {
      "cell_type": "code",
      "metadata": {
        "id": "Izo4pK6Jjjfk",
        "colab_type": "code",
        "colab": {}
      },
      "source": [
        "#Arrange feature accroding to thier ranks\n",
        "Rnk=np.argsort(np.array(R))"
      ],
      "execution_count": 31,
      "outputs": []
    },
    {
      "cell_type": "code",
      "metadata": {
        "id": "zysAKO80jjfs",
        "colab_type": "code",
        "colab": {}
      },
      "source": [
        "#Initiate the cross-validation splitter\n",
        "kfolds=StratifiedKFold(n_splits=5,shuffle=True)"
      ],
      "execution_count": 32,
      "outputs": []
    },
    {
      "cell_type": "code",
      "metadata": {
        "scrolled": true,
        "id": "9FcmesAJjjfy",
        "colab_type": "code",
        "colab": {
          "base_uri": "https://localhost:8080/",
          "height": 798
        },
        "outputId": "3b401f23-f520-4eb1-93ff-3e39bb0c9a51"
      },
      "source": [
        "#Per each set of ranks, use cross-validation to calculate accuracy.\n",
        "smr=[]\n",
        "for j in range(Rnk.shape[0]):\n",
        "    fd=x[:,Rnk[j:]]\n",
        "    pp=0\n",
        "    lpa=np.zeros((0,2))\n",
        "    for train,test in kfolds.split(fd,y):\n",
        "        dff = map(lambda x: (int(float(x[-1])), Vectors.dense(x[:-1])),np.hstack((fd[train],y[train].reshape(-1,1))))\n",
        "        TrD = spark.createDataFrame(dff,schema=[\"label\", \"features\"])\n",
        "        dff = map(lambda x: (int(float(x[-1])), Vectors.dense(x[:-1])),np.hstack((fd[test],y[test].reshape(-1,1))))\n",
        "        TsD = spark.createDataFrame(dff,schema=[\"label\", \"features\"])\n",
        "        model = Sequential()\n",
        "        model.add(Dense(2028,input_dim=fd.shape[1],activation='relu'))\n",
        "        model.add(Dropout(0.01))      \n",
        "        model.add(Dense(1024,input_dim=fd.shape[1],activation='relu'))\n",
        "        model.add(Dropout(0.01))\n",
        "        model.add(Dense(768,activation='relu'))\n",
        "        model.add(Dropout(0.01))\n",
        "        model.add(Dense(512,activation='relu'))\n",
        "        model.add(Dropout(0.01))\n",
        "        model.add(Dense(256,activation='relu'))\n",
        "        model.add(Dropout(0.01))\n",
        "        model.add(Dense(128,activation='relu'))\n",
        "        model.add(Dropout(0.01))\n",
        "        model.add(Dense(1,activation='sigmoid',use_bias=True)) #The number of neurons is equal to the number of classes\n",
        "        model.compile(loss='binary_crossentropy', optimizer='adam', metrics=['binary_accuracy'])\n",
        "        model.summary()\n",
        "        model.fit(fd[train],y[train],validation_data=(fd[test],y[test]),verbose=1,epochs=5)\n",
        " \n",
        "       \n",
        "# evaluamos el modelo\n",
        "scores = model.evaluate(fd[train],y[train])\n",
        " \n",
        "print(\"\\n%s: %.2f%%\" % (model.metrics_names[1], scores[1]*100))\n",
        "print (model.predict(fd[train]).round())\n",
        "        "
      ],
      "execution_count": null,
      "outputs": [
        {
          "output_type": "stream",
          "text": [
            "Model: \"sequential\"\n",
            "_________________________________________________________________\n",
            "Layer (type)                 Output Shape              Param #   \n",
            "=================================================================\n",
            "dense (Dense)                (None, 2028)              52728     \n",
            "_________________________________________________________________\n",
            "dropout (Dropout)            (None, 2028)              0         \n",
            "_________________________________________________________________\n",
            "dense_1 (Dense)              (None, 1024)              2077696   \n",
            "_________________________________________________________________\n",
            "dropout_1 (Dropout)          (None, 1024)              0         \n",
            "_________________________________________________________________\n",
            "dense_2 (Dense)              (None, 768)               787200    \n",
            "_________________________________________________________________\n",
            "dropout_2 (Dropout)          (None, 768)               0         \n",
            "_________________________________________________________________\n",
            "dense_3 (Dense)              (None, 512)               393728    \n",
            "_________________________________________________________________\n",
            "dropout_3 (Dropout)          (None, 512)               0         \n",
            "_________________________________________________________________\n",
            "dense_4 (Dense)              (None, 256)               131328    \n",
            "_________________________________________________________________\n",
            "dropout_4 (Dropout)          (None, 256)               0         \n",
            "_________________________________________________________________\n",
            "dense_5 (Dense)              (None, 128)               32896     \n",
            "_________________________________________________________________\n",
            "dropout_5 (Dropout)          (None, 128)               0         \n",
            "_________________________________________________________________\n",
            "dense_6 (Dense)              (None, 1)                 129       \n",
            "=================================================================\n",
            "Total params: 3,475,705\n",
            "Trainable params: 3,475,705\n",
            "Non-trainable params: 0\n",
            "_________________________________________________________________\n",
            "Epoch 1/5\n",
            "70697/70697 [==============================] - 229s 3ms/step - loss: 0.0836 - binary_accuracy: 0.9622 - val_loss: 0.0598 - val_binary_accuracy: 0.9730\n",
            "Epoch 2/5\n",
            "70697/70697 [==============================] - 229s 3ms/step - loss: 0.0607 - binary_accuracy: 0.9732 - val_loss: 0.0577 - val_binary_accuracy: 0.9738\n",
            "Epoch 3/5\n",
            "70697/70697 [==============================] - 226s 3ms/step - loss: 0.0575 - binary_accuracy: 0.9744 - val_loss: 0.0547 - val_binary_accuracy: 0.9724\n",
            "Epoch 4/5\n",
            "70697/70697 [==============================] - 227s 3ms/step - loss: 0.0602 - binary_accuracy: 0.9752 - val_loss: 0.0515 - val_binary_accuracy: 0.9767\n",
            "Epoch 5/5\n",
            "70697/70697 [==============================] - 228s 3ms/step - loss: 0.0550 - binary_accuracy: 0.9757 - val_loss: 0.0525 - val_binary_accuracy: 0.9767\n"
          ],
          "name": "stdout"
        }
      ]
    }
  ]
}